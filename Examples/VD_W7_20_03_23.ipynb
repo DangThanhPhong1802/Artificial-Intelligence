{
  "nbformat": 4,
  "nbformat_minor": 0,
  "metadata": {
    "colab": {
      "provenance": []
    },
    "kernelspec": {
      "name": "python3",
      "display_name": "Python 3"
    },
    "language_info": {
      "name": "python"
    }
  },
  "cells": [
    {
      "cell_type": "markdown",
      "source": [
        "**BÀI 4 : MẠNG THẦN KINH NHÂN TẠO**\n",
        "- Mạng Perceptron : tín hiệu ra dạng Binary (Yes/No)\n",
        "  + ANN ( Multi layer network) (mạng thần kinh cổ điển)\n",
        "  + CNN (mạng tích chập)\n",
        "  + RNN (mạng thần kinh hồi quy)\n",
        "- Giả sử có m tín hiệu vào (Input layer) và n tín hiệu ra (Output layer)\n",
        "- Các In(i) ghép với 1 Out(j) thì mỗi ghép nối đó gọi là trọng số w(ij)\n",
        "- Bias : giúp hạn chế sai số\n"
      ],
      "metadata": {
        "id": "Tj_VdpTcj1tS"
      }
    },
    {
      "cell_type": "code",
      "execution_count": null,
      "metadata": {
        "id": "IOUgh3BGjHqO"
      },
      "outputs": [],
      "source": [
        "#from sklearn import linear_model\n",
        "#from sklearn.datasets import load_digits\n",
        "from sklearn.linear_model import Perceptron\n",
        "from sklearn import datasets\n",
        "from sklearn.model_selection import train_test_split\n",
        "from sklearn.metrics import accuracy_score\n",
        "from sklearn.preprocessing import StandardScaler"
      ]
    },
    {
      "cell_type": "code",
      "source": [
        "x=[[0,0],[0,1],[1,0],[1,1]]\n",
        "t=[0,1,1,1]\n",
        "\n",
        "model = Perceptron()\n",
        "model.fit(x,t)\n",
        "model.score(x,t)"
      ],
      "metadata": {
        "colab": {
          "base_uri": "https://localhost:8080/"
        },
        "id": "qbIsCuqms2Em",
        "outputId": "c5852ff5-80ca-4b4e-d628-27e7a5d58359"
      },
      "execution_count": null,
      "outputs": [
        {
          "output_type": "execute_result",
          "data": {
            "text/plain": [
              "1.0"
            ]
          },
          "metadata": {},
          "execution_count": 16
        }
      ]
    },
    {
      "cell_type": "code",
      "source": [
        "x1=[[0.5,0.5],[-0.5,-0.5],[10,2.3],[-1,-2]]\n",
        "y1=model.predict(x1)\n",
        "print(model.score(x1,y1))\n",
        "print(y1)"
      ],
      "metadata": {
        "colab": {
          "base_uri": "https://localhost:8080/"
        },
        "id": "Ab-44k9lvJwM",
        "outputId": "3a4a6468-e987-4e29-8374-941799289aa1"
      },
      "execution_count": null,
      "outputs": [
        {
          "output_type": "stream",
          "name": "stdout",
          "text": [
            "1.0\n",
            "[1 0 1 0]\n"
          ]
        }
      ]
    },
    {
      "cell_type": "code",
      "source": [
        "x2=[[0.5,0.5],[0.5,0],[0,0.5],[0.4,0]]\n",
        "y2=model.predict(x2)\n",
        "print(model.score(x2,y2))\n",
        "print(y2)"
      ],
      "metadata": {
        "colab": {
          "base_uri": "https://localhost:8080/"
        },
        "id": "P3LDydZpxzR3",
        "outputId": "4cea3c7f-7298-411d-825c-689bef44fa60"
      },
      "execution_count": null,
      "outputs": [
        {
          "output_type": "stream",
          "name": "stdout",
          "text": [
            "1.0\n",
            "[1 0 0 0]\n"
          ]
        }
      ]
    },
    {
      "cell_type": "code",
      "source": [
        "x3=[[-0.5,-0.5],[-0.5,0.5],[0.3,-0.5],[-0.1,1]]\n",
        "t3=[1,1,0,0]\n",
        "\n",
        "model = Perceptron()\n",
        "model.fit(x3,t3)\n",
        "model.score(x3,t3)"
      ],
      "metadata": {
        "colab": {
          "base_uri": "https://localhost:8080/"
        },
        "id": "u_vbNRhLytCn",
        "outputId": "5965f217-1184-437d-8a3d-78196184346a"
      },
      "execution_count": null,
      "outputs": [
        {
          "output_type": "execute_result",
          "data": {
            "text/plain": [
              "1.0"
            ]
          },
          "metadata": {},
          "execution_count": 17
        }
      ]
    },
    {
      "cell_type": "code",
      "source": [
        "x4=[[0,0],[0,1],[1,0],[1,1]]\n",
        "y4=model.predict(x4)\n",
        "print(model.score(x4,y4))\n",
        "print(y4)"
      ],
      "metadata": {
        "colab": {
          "base_uri": "https://localhost:8080/"
        },
        "id": "s8TkQpyg1NbL",
        "outputId": "d7cd6da3-b310-486f-e57e-62a74ea13cf4"
      },
      "execution_count": null,
      "outputs": [
        {
          "output_type": "stream",
          "name": "stdout",
          "text": [
            "1.0\n",
            "[0 0 0 0]\n"
          ]
        }
      ]
    },
    {
      "cell_type": "markdown",
      "source": [
        "- DL đã Train thì ko được lấy ra để Test\n",
        "Muốn Test thì lấy DL chưa từng được Train\n",
        "DL để Train và Test có thể lấy theo 7:3 hoặc 8:2\n",
        "- DL ko đều thì phải Scaler nó"
      ],
      "metadata": {
        "id": "O2qmq8jv3DJT"
      }
    },
    {
      "cell_type": "code",
      "source": [
        "iris = datasets.load_iris()\n",
        "X=iris.data\n",
        "y=iris.target\n",
        "#print(X[:5])\n",
        "#print(y[:5])\n",
        "print(X)\n",
        "print(y)"
      ],
      "metadata": {
        "colab": {
          "base_uri": "https://localhost:8080/"
        },
        "id": "80yJgcUo3PEL",
        "outputId": "3d0a1bc6-16ac-4257-c19b-77251ca2ab4c"
      },
      "execution_count": null,
      "outputs": [
        {
          "output_type": "stream",
          "name": "stdout",
          "text": [
            "[[5.1 3.5 1.4 0.2]\n",
            " [4.9 3.  1.4 0.2]\n",
            " [4.7 3.2 1.3 0.2]\n",
            " [4.6 3.1 1.5 0.2]\n",
            " [5.  3.6 1.4 0.2]\n",
            " [5.4 3.9 1.7 0.4]\n",
            " [4.6 3.4 1.4 0.3]\n",
            " [5.  3.4 1.5 0.2]\n",
            " [4.4 2.9 1.4 0.2]\n",
            " [4.9 3.1 1.5 0.1]\n",
            " [5.4 3.7 1.5 0.2]\n",
            " [4.8 3.4 1.6 0.2]\n",
            " [4.8 3.  1.4 0.1]\n",
            " [4.3 3.  1.1 0.1]\n",
            " [5.8 4.  1.2 0.2]\n",
            " [5.7 4.4 1.5 0.4]\n",
            " [5.4 3.9 1.3 0.4]\n",
            " [5.1 3.5 1.4 0.3]\n",
            " [5.7 3.8 1.7 0.3]\n",
            " [5.1 3.8 1.5 0.3]\n",
            " [5.4 3.4 1.7 0.2]\n",
            " [5.1 3.7 1.5 0.4]\n",
            " [4.6 3.6 1.  0.2]\n",
            " [5.1 3.3 1.7 0.5]\n",
            " [4.8 3.4 1.9 0.2]\n",
            " [5.  3.  1.6 0.2]\n",
            " [5.  3.4 1.6 0.4]\n",
            " [5.2 3.5 1.5 0.2]\n",
            " [5.2 3.4 1.4 0.2]\n",
            " [4.7 3.2 1.6 0.2]\n",
            " [4.8 3.1 1.6 0.2]\n",
            " [5.4 3.4 1.5 0.4]\n",
            " [5.2 4.1 1.5 0.1]\n",
            " [5.5 4.2 1.4 0.2]\n",
            " [4.9 3.1 1.5 0.2]\n",
            " [5.  3.2 1.2 0.2]\n",
            " [5.5 3.5 1.3 0.2]\n",
            " [4.9 3.6 1.4 0.1]\n",
            " [4.4 3.  1.3 0.2]\n",
            " [5.1 3.4 1.5 0.2]\n",
            " [5.  3.5 1.3 0.3]\n",
            " [4.5 2.3 1.3 0.3]\n",
            " [4.4 3.2 1.3 0.2]\n",
            " [5.  3.5 1.6 0.6]\n",
            " [5.1 3.8 1.9 0.4]\n",
            " [4.8 3.  1.4 0.3]\n",
            " [5.1 3.8 1.6 0.2]\n",
            " [4.6 3.2 1.4 0.2]\n",
            " [5.3 3.7 1.5 0.2]\n",
            " [5.  3.3 1.4 0.2]\n",
            " [7.  3.2 4.7 1.4]\n",
            " [6.4 3.2 4.5 1.5]\n",
            " [6.9 3.1 4.9 1.5]\n",
            " [5.5 2.3 4.  1.3]\n",
            " [6.5 2.8 4.6 1.5]\n",
            " [5.7 2.8 4.5 1.3]\n",
            " [6.3 3.3 4.7 1.6]\n",
            " [4.9 2.4 3.3 1. ]\n",
            " [6.6 2.9 4.6 1.3]\n",
            " [5.2 2.7 3.9 1.4]\n",
            " [5.  2.  3.5 1. ]\n",
            " [5.9 3.  4.2 1.5]\n",
            " [6.  2.2 4.  1. ]\n",
            " [6.1 2.9 4.7 1.4]\n",
            " [5.6 2.9 3.6 1.3]\n",
            " [6.7 3.1 4.4 1.4]\n",
            " [5.6 3.  4.5 1.5]\n",
            " [5.8 2.7 4.1 1. ]\n",
            " [6.2 2.2 4.5 1.5]\n",
            " [5.6 2.5 3.9 1.1]\n",
            " [5.9 3.2 4.8 1.8]\n",
            " [6.1 2.8 4.  1.3]\n",
            " [6.3 2.5 4.9 1.5]\n",
            " [6.1 2.8 4.7 1.2]\n",
            " [6.4 2.9 4.3 1.3]\n",
            " [6.6 3.  4.4 1.4]\n",
            " [6.8 2.8 4.8 1.4]\n",
            " [6.7 3.  5.  1.7]\n",
            " [6.  2.9 4.5 1.5]\n",
            " [5.7 2.6 3.5 1. ]\n",
            " [5.5 2.4 3.8 1.1]\n",
            " [5.5 2.4 3.7 1. ]\n",
            " [5.8 2.7 3.9 1.2]\n",
            " [6.  2.7 5.1 1.6]\n",
            " [5.4 3.  4.5 1.5]\n",
            " [6.  3.4 4.5 1.6]\n",
            " [6.7 3.1 4.7 1.5]\n",
            " [6.3 2.3 4.4 1.3]\n",
            " [5.6 3.  4.1 1.3]\n",
            " [5.5 2.5 4.  1.3]\n",
            " [5.5 2.6 4.4 1.2]\n",
            " [6.1 3.  4.6 1.4]\n",
            " [5.8 2.6 4.  1.2]\n",
            " [5.  2.3 3.3 1. ]\n",
            " [5.6 2.7 4.2 1.3]\n",
            " [5.7 3.  4.2 1.2]\n",
            " [5.7 2.9 4.2 1.3]\n",
            " [6.2 2.9 4.3 1.3]\n",
            " [5.1 2.5 3.  1.1]\n",
            " [5.7 2.8 4.1 1.3]\n",
            " [6.3 3.3 6.  2.5]\n",
            " [5.8 2.7 5.1 1.9]\n",
            " [7.1 3.  5.9 2.1]\n",
            " [6.3 2.9 5.6 1.8]\n",
            " [6.5 3.  5.8 2.2]\n",
            " [7.6 3.  6.6 2.1]\n",
            " [4.9 2.5 4.5 1.7]\n",
            " [7.3 2.9 6.3 1.8]\n",
            " [6.7 2.5 5.8 1.8]\n",
            " [7.2 3.6 6.1 2.5]\n",
            " [6.5 3.2 5.1 2. ]\n",
            " [6.4 2.7 5.3 1.9]\n",
            " [6.8 3.  5.5 2.1]\n",
            " [5.7 2.5 5.  2. ]\n",
            " [5.8 2.8 5.1 2.4]\n",
            " [6.4 3.2 5.3 2.3]\n",
            " [6.5 3.  5.5 1.8]\n",
            " [7.7 3.8 6.7 2.2]\n",
            " [7.7 2.6 6.9 2.3]\n",
            " [6.  2.2 5.  1.5]\n",
            " [6.9 3.2 5.7 2.3]\n",
            " [5.6 2.8 4.9 2. ]\n",
            " [7.7 2.8 6.7 2. ]\n",
            " [6.3 2.7 4.9 1.8]\n",
            " [6.7 3.3 5.7 2.1]\n",
            " [7.2 3.2 6.  1.8]\n",
            " [6.2 2.8 4.8 1.8]\n",
            " [6.1 3.  4.9 1.8]\n",
            " [6.4 2.8 5.6 2.1]\n",
            " [7.2 3.  5.8 1.6]\n",
            " [7.4 2.8 6.1 1.9]\n",
            " [7.9 3.8 6.4 2. ]\n",
            " [6.4 2.8 5.6 2.2]\n",
            " [6.3 2.8 5.1 1.5]\n",
            " [6.1 2.6 5.6 1.4]\n",
            " [7.7 3.  6.1 2.3]\n",
            " [6.3 3.4 5.6 2.4]\n",
            " [6.4 3.1 5.5 1.8]\n",
            " [6.  3.  4.8 1.8]\n",
            " [6.9 3.1 5.4 2.1]\n",
            " [6.7 3.1 5.6 2.4]\n",
            " [6.9 3.1 5.1 2.3]\n",
            " [5.8 2.7 5.1 1.9]\n",
            " [6.8 3.2 5.9 2.3]\n",
            " [6.7 3.3 5.7 2.5]\n",
            " [6.7 3.  5.2 2.3]\n",
            " [6.3 2.5 5.  1.9]\n",
            " [6.5 3.  5.2 2. ]\n",
            " [6.2 3.4 5.4 2.3]\n",
            " [5.9 3.  5.1 1.8]]\n",
            "[0 0 0 0 0 0 0 0 0 0 0 0 0 0 0 0 0 0 0 0 0 0 0 0 0 0 0 0 0 0 0 0 0 0 0 0 0\n",
            " 0 0 0 0 0 0 0 0 0 0 0 0 0 1 1 1 1 1 1 1 1 1 1 1 1 1 1 1 1 1 1 1 1 1 1 1 1\n",
            " 1 1 1 1 1 1 1 1 1 1 1 1 1 1 1 1 1 1 1 1 1 1 1 1 1 1 2 2 2 2 2 2 2 2 2 2 2\n",
            " 2 2 2 2 2 2 2 2 2 2 2 2 2 2 2 2 2 2 2 2 2 2 2 2 2 2 2 2 2 2 2 2 2 2 2 2 2\n",
            " 2 2]\n"
          ]
        }
      ]
    },
    {
      "cell_type": "code",
      "source": [
        "X_train, X_test, y_train, y_test = train_test_split(X,y,test_size=0.3)\n",
        "sc=StandardScaler()\n",
        "sc.fit(X_train)\n",
        "X_train_std=sc.transform(X_train)\n",
        "X_test_std=sc.transform(X_test)\n",
        "print(X_train_std[:5], X_train[:5])\n",
        "print(y[:5])"
      ],
      "metadata": {
        "colab": {
          "base_uri": "https://localhost:8080/"
        },
        "id": "XZ7cjpAA7F2D",
        "outputId": "0e606850-4f9d-4742-bc02-f47880a54217"
      },
      "execution_count": null,
      "outputs": [
        {
          "output_type": "stream",
          "name": "stdout",
          "text": [
            "[[ 0.99045694  0.17875949  0.33436004  0.24047787]\n",
            " [ 0.63712292 -0.33548014  0.27699435  0.10687905]\n",
            " [ 0.28378891 -0.07836032  0.62118851  0.77487313]\n",
            " [ 0.75490093 -0.07836032  1.13747975  1.30926839]\n",
            " [-0.54065713  0.95011893 -1.32924506 -1.09551029]] [[6.7 3.1 4.4 1.4]\n",
            " [6.4 2.9 4.3 1.3]\n",
            " [6.1 3.  4.9 1.8]\n",
            " [6.5 3.  5.8 2.2]\n",
            " [5.4 3.4 1.5 0.4]]\n",
            "[0 0 0 0 0]\n"
          ]
        }
      ]
    },
    {
      "cell_type": "code",
      "source": [
        "#Lưu ý : mỗi lần Train thì KQ Train sẽ khác nhau\n",
        "#Lần 1\n",
        "model=Perceptron(max_iter=40, eta0=0.1, random_state=0)\n",
        "#max_iter : số lần học\n",
        "#eta0 : tốc độ học = [0,1]\n",
        "#random_state : trạng thái\n",
        "model.fit(X_train_std, y_train)\n",
        "y_pred=model.predict(X_test_std)\n",
        "print(y_pred)\n",
        "print(y_test)\n",
        "print('Độ chính xác mô hình : ', accuracy_score(y_test, y_pred))"
      ],
      "metadata": {
        "colab": {
          "base_uri": "https://localhost:8080/"
        },
        "id": "x2ho-2QU8Xsh",
        "outputId": "cdbaef77-206c-49d4-be30-1d2a7a9bd16c"
      },
      "execution_count": null,
      "outputs": [
        {
          "output_type": "stream",
          "name": "stdout",
          "text": [
            "[1 0 0 2 2 0 2 2 0 2 2 2 2 1 2 0 1 2 0 1 0 0 0 0 0 0 2 0 2 2 2 2 2 0 1 2 2\n",
            " 0 2 0 0 2 2 2 2]\n",
            "[1 0 0 1 1 0 2 2 0 1 2 2 2 1 1 0 1 1 0 1 0 0 0 0 0 0 2 0 2 1 1 2 2 0 1 2 2\n",
            " 0 2 0 0 1 2 2 2]\n",
            "Độ chính xác mô hình :  0.8222222222222222\n"
          ]
        }
      ]
    },
    {
      "cell_type": "code",
      "source": [
        "#Lưu ý : mỗi lần Train thì KQ Train sẽ khác nhau\n",
        "#Lần 2\n",
        "model=Perceptron(max_iter=1000, eta0=0.001, random_state=0)\n",
        "#max_iter : số lần học\n",
        "#eta0 : tốc độ học = [0,1]\n",
        "#random_state : trạng thái\n",
        "model.fit(X_train_std, y_train)\n",
        "y_pred=model.predict(X_test_std)\n",
        "print(y_pred)\n",
        "print(y_test)\n",
        "print('Độ chính xác mô hình : ', accuracy_score(y_test, y_pred))"
      ],
      "metadata": {
        "colab": {
          "base_uri": "https://localhost:8080/"
        },
        "id": "HteG5Ht--vAB",
        "outputId": "596f6245-1df4-49aa-9f92-8ef7ea04213b"
      },
      "execution_count": null,
      "outputs": [
        {
          "output_type": "stream",
          "name": "stdout",
          "text": [
            "[1 0 0 1 1 0 2 2 0 1 2 2 2 1 1 0 1 1 0 1 0 0 0 0 0 0 2 0 2 2 2 2 2 0 1 2 2\n",
            " 0 2 0 0 2 2 2 2]\n",
            "[1 0 0 1 1 0 2 2 0 1 2 2 2 1 1 0 1 1 0 1 0 0 0 0 0 0 2 0 2 1 1 2 2 0 1 2 2\n",
            " 0 2 0 0 1 2 2 2]\n",
            "Độ chính xác mô hình :  0.9333333333333333\n"
          ]
        }
      ]
    }
  ]
}